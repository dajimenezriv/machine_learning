{
 "cells": [
  {
   "cell_type": "code",
   "execution_count": 1,
   "metadata": {},
   "outputs": [],
   "source": [
    "import numpy as np\n",
    "import pandas as pd"
   ]
  },
  {
   "cell_type": "code",
   "execution_count": 2,
   "metadata": {},
   "outputs": [],
   "source": [
    "Q = [\"sunny\", \"rainy\"]\n",
    "SIGMA = [\"sun\", \"clouds\"]\n",
    "PI = [0.8, 0.2]"
   ]
  },
  {
   "cell_type": "code",
   "execution_count": 3,
   "metadata": {},
   "outputs": [],
   "source": [
    "A = pd.DataFrame({\"sunny\": [0.8, 0.2], \"rainy\": [0.3, 0.7]})\n",
    "A.index = [\"sunny\", \"rainy\"]"
   ]
  },
  {
   "cell_type": "code",
   "execution_count": 4,
   "metadata": {},
   "outputs": [
    {
     "data": {
      "text/html": [
       "<div>\n",
       "<style scoped>\n",
       "    .dataframe tbody tr th:only-of-type {\n",
       "        vertical-align: middle;\n",
       "    }\n",
       "\n",
       "    .dataframe tbody tr th {\n",
       "        vertical-align: top;\n",
       "    }\n",
       "\n",
       "    .dataframe thead th {\n",
       "        text-align: right;\n",
       "    }\n",
       "</style>\n",
       "<table border=\"1\" class=\"dataframe\">\n",
       "  <thead>\n",
       "    <tr style=\"text-align: right;\">\n",
       "      <th></th>\n",
       "      <th>sunny</th>\n",
       "      <th>rainy</th>\n",
       "    </tr>\n",
       "  </thead>\n",
       "  <tbody>\n",
       "    <tr>\n",
       "      <th>sunny</th>\n",
       "      <td>0.8</td>\n",
       "      <td>0.3</td>\n",
       "    </tr>\n",
       "    <tr>\n",
       "      <th>rainy</th>\n",
       "      <td>0.2</td>\n",
       "      <td>0.7</td>\n",
       "    </tr>\n",
       "  </tbody>\n",
       "</table>\n",
       "</div>"
      ],
      "text/plain": [
       "       sunny  rainy\n",
       "sunny    0.8    0.3\n",
       "rainy    0.2    0.7"
      ]
     },
     "execution_count": 4,
     "metadata": {},
     "output_type": "execute_result"
    }
   ],
   "source": [
    "A"
   ]
  },
  {
   "cell_type": "code",
   "execution_count": 5,
   "metadata": {},
   "outputs": [],
   "source": [
    "B = pd.DataFrame({\"sunny\": [0.95, 0.05], \"rainy\": [0.7, 0.3]})\n",
    "B.index = [\"sun\", \"clouds\"]"
   ]
  },
  {
   "cell_type": "code",
   "execution_count": 6,
   "metadata": {},
   "outputs": [
    {
     "data": {
      "text/html": [
       "<div>\n",
       "<style scoped>\n",
       "    .dataframe tbody tr th:only-of-type {\n",
       "        vertical-align: middle;\n",
       "    }\n",
       "\n",
       "    .dataframe tbody tr th {\n",
       "        vertical-align: top;\n",
       "    }\n",
       "\n",
       "    .dataframe thead th {\n",
       "        text-align: right;\n",
       "    }\n",
       "</style>\n",
       "<table border=\"1\" class=\"dataframe\">\n",
       "  <thead>\n",
       "    <tr style=\"text-align: right;\">\n",
       "      <th></th>\n",
       "      <th>sunny</th>\n",
       "      <th>rainy</th>\n",
       "    </tr>\n",
       "  </thead>\n",
       "  <tbody>\n",
       "    <tr>\n",
       "      <th>sun</th>\n",
       "      <td>0.95</td>\n",
       "      <td>0.7</td>\n",
       "    </tr>\n",
       "    <tr>\n",
       "      <th>clouds</th>\n",
       "      <td>0.05</td>\n",
       "      <td>0.3</td>\n",
       "    </tr>\n",
       "  </tbody>\n",
       "</table>\n",
       "</div>"
      ],
      "text/plain": [
       "        sunny  rainy\n",
       "sun      0.95    0.7\n",
       "clouds   0.05    0.3"
      ]
     },
     "execution_count": 6,
     "metadata": {},
     "output_type": "execute_result"
    }
   ],
   "source": [
    "B"
   ]
  },
  {
   "cell_type": "code",
   "execution_count": 7,
   "metadata": {},
   "outputs": [
    {
     "name": "stdout",
     "output_type": "stream",
     "text": [
      "sunny (sun)\n",
      "sunny (sun)\n",
      "sunny (sun)\n",
      "rainy (sun)\n",
      "sunny (sun)\n",
      "sunny (sun)\n",
      "rainy (sun)\n",
      "sunny (sun)\n",
      "rainy (sun)\n",
      "rainy (sun)\n",
      "rainy (sun)\n",
      "sunny (sun)\n",
      "sunny (sun)\n",
      "sunny (sun)\n",
      "rainy (sun)\n",
      "sunny (sun)\n",
      "sunny (sun)\n",
      "rainy (clouds)\n",
      "sunny (sun)\n",
      "sunny (sun)\n",
      "sunny (sun)\n",
      "sunny (sun)\n",
      "sunny (sun)\n",
      "sunny (sun)\n",
      "rainy (sun)\n",
      "sunny (sun)\n",
      "sunny (sun)\n",
      "sunny (sun)\n",
      "sunny (sun)\n",
      "sunny (sun)\n",
      "sunny (sun)\n",
      "rainy (sun)\n",
      "sunny (sun)\n",
      "sunny (sun)\n",
      "sunny (sun)\n",
      "sunny (sun)\n",
      "sunny (sun)\n",
      "sunny (sun)\n",
      "sunny (sun)\n",
      "rainy (sun)\n",
      "sunny (sun)\n",
      "sunny (sun)\n",
      "sunny (sun)\n",
      "sunny (sun)\n",
      "sunny (sun)\n",
      "sunny (clouds)\n",
      "sunny (sun)\n",
      "sunny (sun)\n",
      "rainy (sun)\n",
      "sunny (sun)\n",
      "sunny (sun)\n",
      "sunny (sun)\n",
      "sunny (sun)\n",
      "rainy (sun)\n",
      "sunny (sun)\n",
      "sunny (sun)\n",
      "sunny (sun)\n",
      "sunny (sun)\n",
      "sunny (sun)\n",
      "rainy (sun)\n",
      "rainy (sun)\n",
      "sunny (sun)\n",
      "rainy (sun)\n",
      "sunny (sun)\n",
      "sunny (sun)\n",
      "rainy (sun)\n",
      "rainy (sun)\n",
      "sunny (sun)\n",
      "rainy (sun)\n",
      "sunny (sun)\n",
      "sunny (sun)\n",
      "sunny (sun)\n",
      "sunny (sun)\n",
      "sunny (sun)\n",
      "sunny (sun)\n",
      "sunny (sun)\n",
      "rainy (sun)\n",
      "sunny (sun)\n",
      "sunny (sun)\n",
      "sunny (sun)\n",
      "sunny (sun)\n",
      "sunny (sun)\n",
      "rainy (sun)\n",
      "sunny (sun)\n",
      "sunny (sun)\n",
      "sunny (sun)\n",
      "sunny (sun)\n",
      "rainy (sun)\n",
      "sunny (sun)\n",
      "sunny (sun)\n",
      "sunny (sun)\n",
      "sunny (sun)\n",
      "rainy (sun)\n",
      "sunny (sun)\n",
      "rainy (sun)\n",
      "sunny (clouds)\n",
      "sunny (sun)\n",
      "sunny (sun)\n",
      "sunny (sun)\n",
      "sunny (sun)\n",
      "rainy (sun)\n"
     ]
    }
   ],
   "source": [
    "# init q\n",
    "q = np.random.choice(Q, p=PI)\n",
    "sigma = np.random.choice(SIGMA, p=B[q])\n",
    "print(f\"{q} ({sigma})\")\n",
    "\n",
    "for i in range(100):\n",
    "    q_ = np.random.choice(Q, p=A[q])\n",
    "    sigma = np.random.choice(SIGMA, p=B[q])\n",
    "    print(f\"{q_} ({sigma})\")"
   ]
  }
 ],
 "metadata": {
  "kernelspec": {
   "display_name": "Python 3",
   "language": "python",
   "name": "python3"
  },
  "language_info": {
   "codemirror_mode": {
    "name": "ipython",
    "version": 3
   },
   "file_extension": ".py",
   "mimetype": "text/x-python",
   "name": "python",
   "nbconvert_exporter": "python",
   "pygments_lexer": "ipython3",
   "version": "3.8.5"
  }
 },
 "nbformat": 4,
 "nbformat_minor": 4
}
