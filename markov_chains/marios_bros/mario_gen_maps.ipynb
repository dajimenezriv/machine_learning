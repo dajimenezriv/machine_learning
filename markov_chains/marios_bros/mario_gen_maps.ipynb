{
 "cells": [
  {
   "cell_type": "markdown",
   "metadata": {},
   "source": [
    "# Mario Bros Generate Maps"
   ]
  },
  {
   "cell_type": "code",
   "execution_count": 1,
   "metadata": {},
   "outputs": [],
   "source": [
    "import numpy as np\n",
    "from PIL import Image\n",
    "from IPython.display import display"
   ]
  },
  {
   "cell_type": "code",
   "execution_count": 2,
   "metadata": {},
   "outputs": [],
   "source": [
    "colors = {}\n",
    "\n",
    "with open(\"colors.txt\", \"r\") as f:\n",
    "    for line in f.readlines():\n",
    "        k, v = line.split(\"-\")\n",
    "        colors[eval(k)] = v.replace(\"\\n\", \"\")"
   ]
  },
  {
   "cell_type": "code",
   "execution_count": 3,
   "metadata": {},
   "outputs": [],
   "source": [
    "blocks_dict = {}\n",
    "rows = 0\n",
    "columns = 0\n",
    "value_length = 0\n",
    "\n",
    "with open(\"blocks_dict.txt\", \"r\") as f:\n",
    "    line = f.readline()\n",
    "    v, k = line.split(\"_\")\n",
    "    blocks_dict[k.replace(\"\\n\", \"\")] = v\n",
    "    value_length = len(v)\n",
    "        \n",
    "    for line in f.readlines():\n",
    "        v, k = line.split(\"_\")\n",
    "        blocks_dict[k.replace(\"\\n\", \"\")] = v\n",
    "        \n",
    "with open(\"generated.txt\", \"r\") as f:\n",
    "    line = f.readline().replace(\"\\n\", \"\")\n",
    "    rows = len(line) // value_length\n",
    "    columns += 1\n",
    "    \n",
    "    for line in f.readlines():\n",
    "        columns += 1\n",
    "        \n",
    "# END and empty line\n",
    "columns -= 2"
   ]
  },
  {
   "cell_type": "code",
   "execution_count": 4,
   "metadata": {},
   "outputs": [],
   "source": [
    "block_size = 16\n",
    "map_ = np.empty((rows, columns), dtype=object)\n",
    "\n",
    "with open(\"generated.txt\", \"r\") as f:\n",
    "    for i, line in enumerate(f.readlines()):\n",
    "        for t, chain in enumerate(line.split(\"-\")[:-1]):\n",
    "            chain += \"-\"\n",
    "            if t < rows and i < columns:\n",
    "                map_[t, i] = list(blocks_dict.keys())[list(blocks_dict.values()).index(chain)]"
   ]
  },
  {
   "cell_type": "code",
   "execution_count": 5,
   "metadata": {},
   "outputs": [
    {
     "data": {
      "image/png": "[encoded data removed]",
      "text/plain": [
       "<PIL.Image.Image image mode=RGB size=1408x240 at 0x22848775A30>"
      ]
     },
     "metadata": {},
     "output_type": "display_data"
    }
   ],
   "source": [
    "value = np.empty((), dtype=object)\n",
    "value[()] = (0, 0, 0)\n",
    "color_map = np.full((rows * block_size, columns * block_size), value, dtype=object)\n",
    "\n",
    "for i, row in enumerate(map_):\n",
    "    for t, col in enumerate(row):\n",
    "        if col != None:\n",
    "            for c, char in enumerate(col):\n",
    "                x = c // block_size\n",
    "                y = c % block_size\n",
    "\n",
    "                color = list(colors.keys())[list(colors.values()).index(char)]\n",
    "                color_map[i * block_size + y, t * block_size + x] = color\n",
    "\n",
    "img = Image.fromarray(np.array(color_map.tolist(), dtype=np.uint8))\n",
    "display(img)"
   ]
  },
  {
   "cell_type": "code",
   "execution_count": 6,
   "metadata": {},
   "outputs": [],
   "source": [
    "img.save(\"generated.png\")"
   ]
  }
 ],
 "metadata": {
  "kernelspec": {
   "display_name": "Python 3",
   "language": "python",
   "name": "python3"
  },
  "language_info": {
   "codemirror_mode": {
    "name": "ipython",
    "version": 3
   },
   "file_extension": ".py",
   "mimetype": "text/x-python",
   "name": "python",
   "nbconvert_exporter": "python",
   "pygments_lexer": "ipython3",
   "version": "3.8.5"
  }
 },
 "nbformat": 4,
 "nbformat_minor": 2
}
