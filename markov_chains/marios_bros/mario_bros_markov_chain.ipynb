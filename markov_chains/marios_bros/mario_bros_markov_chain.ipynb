{
 "cells": [
  {
   "cell_type": "code",
   "execution_count": 1,
   "metadata": {},
   "outputs": [],
   "source": [
    "import pandas as pd\n",
    "import numpy as np\n",
    "from os import listdir"
   ]
  },
  {
   "cell_type": "code",
   "execution_count": 2,
   "metadata": {},
   "outputs": [],
   "source": [
    "maps_folder = \"maps/\""
   ]
  },
  {
   "cell_type": "markdown",
   "metadata": {},
   "source": [
    "## Check heights"
   ]
  },
  {
   "cell_type": "code",
   "execution_count": 3,
   "metadata": {},
   "outputs": [],
   "source": [
    "heights = {}"
   ]
  },
  {
   "cell_type": "code",
   "execution_count": 4,
   "metadata": {},
   "outputs": [],
   "source": [
    "for filename in listdir(maps_folder):\n",
    "    with open(maps_folder + filename) as f:\n",
    "        line = f.readline().replace(\"\\n\", \"\")\n",
    "        rows = len(line)\n",
    "        try:\n",
    "            heights[rows] += 1\n",
    "        except KeyError:\n",
    "            heights[rows] = 1"
   ]
  },
  {
   "cell_type": "code",
   "execution_count": 5,
   "metadata": {},
   "outputs": [
    {
     "data": {
      "text/plain": [
       "{120: 4, 180: 5, 60: 11}"
      ]
     },
     "execution_count": 5,
     "metadata": {},
     "output_type": "execute_result"
    }
   ],
   "source": [
    "heights"
   ]
  },
  {
   "cell_type": "markdown",
   "metadata": {},
   "source": [
    "## Create dictionaries"
   ]
  },
  {
   "cell_type": "code",
   "execution_count": 6,
   "metadata": {},
   "outputs": [],
   "source": [
    "Q = []"
   ]
  },
  {
   "cell_type": "code",
   "execution_count": 7,
   "metadata": {},
   "outputs": [],
   "source": [
    "for filename in listdir(maps_folder):\n",
    "    with open(maps_folder + filename) as f:\n",
    "        for line in f.readlines():\n",
    "            line = line.replace(\"\\n\", \"\")\n",
    "            if line not in Q:\n",
    "                Q.append(line)\n",
    "# end state\n",
    "Q.append(\"END\")"
   ]
  },
  {
   "cell_type": "code",
   "execution_count": 8,
   "metadata": {},
   "outputs": [],
   "source": [
    "PI = pd.DataFrame({})\n",
    "PI_counts = 0\n",
    "A = pd.DataFrame({})\n",
    "A_counts = pd.DataFrame({})\n",
    "B = pd.DataFrame({})\n",
    "B_counts = pd.DataFrame({})"
   ]
  },
  {
   "cell_type": "code",
   "execution_count": 9,
   "metadata": {},
   "outputs": [],
   "source": [
    "for q in Q:\n",
    "    PI[q] = [0]\n",
    "    A_counts[q] = [0]\n",
    "    A[q] = [0] * len(Q)\n",
    "\n",
    "A.index = Q"
   ]
  },
  {
   "cell_type": "markdown",
   "metadata": {},
   "source": [
    "## Training Markov Chains"
   ]
  },
  {
   "cell_type": "code",
   "execution_count": 10,
   "metadata": {
    "scrolled": false
   },
   "outputs": [],
   "source": [
    "for filename in listdir(maps_folder):\n",
    "    with open(maps_folder + filename) as f:\n",
    "        q_ = f.readline().replace(\"\\n\", \"\")\n",
    "        PI[q_] += 1\n",
    "        PI_counts += 1\n",
    "\n",
    "        for line in f.readlines():\n",
    "            q = q_\n",
    "            q_ = line.replace(\"\\n\", \"\")\n",
    "            A[q][q_] += 1\n",
    "            A_counts[q] += 1\n",
    "            \n",
    "        A[q_][\"END\"] += 1\n",
    "        A_counts[q_] += 1"
   ]
  },
  {
   "cell_type": "code",
   "execution_count": 11,
   "metadata": {},
   "outputs": [],
   "source": [
    "A /= A_counts.values\n",
    "PI /= PI_counts"
   ]
  },
  {
   "cell_type": "markdown",
   "metadata": {},
   "source": [
    "## Generate output"
   ]
  },
  {
   "cell_type": "code",
   "execution_count": 12,
   "metadata": {},
   "outputs": [],
   "source": [
    "with open(\"generated.txt\", \"w\") as file:\n",
    "    # init q\n",
    "    q = np.random.choice(Q, p=PI.to_numpy()[0])\n",
    "    file.write(f\"{q}\\n\")\n",
    "\n",
    "    while q != \"END\":\n",
    "        q = np.random.choice(Q, p=A[q])\n",
    "        file.write(f\"{q}\\n\")"
   ]
  }
 ],
 "metadata": {
  "kernelspec": {
   "display_name": "Python 3",
   "language": "python",
   "name": "python3"
  },
  "language_info": {
   "codemirror_mode": {
    "name": "ipython",
    "version": 3
   },
   "file_extension": ".py",
   "mimetype": "text/x-python",
   "name": "python",
   "nbconvert_exporter": "python",
   "pygments_lexer": "ipython3",
   "version": "3.8.5"
  }
 },
 "nbformat": 4,
 "nbformat_minor": 2
}
